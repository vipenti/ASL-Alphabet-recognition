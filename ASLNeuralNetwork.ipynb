{
 "cells": [
  {
   "cell_type": "code",
   "execution_count": 1,
   "id": "71f94f11-8ee3-40b2-9e67-597ab5803eaa",
   "metadata": {},
   "outputs": [
    {
     "name": "stdout",
     "output_type": "stream",
     "text": [
      "Model: \"sequential\"\n",
      "_________________________________________________________________\n",
      "Layer (type)                 Output Shape              Param #   \n",
      "=================================================================\n",
      "conv2d (Conv2D)              (None, 197, 197, 32)      1568      \n",
      "_________________________________________________________________\n",
      "max_pooling2d (MaxPooling2D) (None, 32, 32, 32)        0         \n",
      "_________________________________________________________________\n",
      "flatten (Flatten)            (None, 32768)             0         \n",
      "=================================================================\n",
      "Total params: 1,568\n",
      "Trainable params: 1,568\n",
      "Non-trainable params: 0\n",
      "_________________________________________________________________\n"
     ]
    }
   ],
   "source": [
    "import tensorflow\n",
    "#import keras\n",
    "from tensorflow.keras import Sequential\n",
    "from tensorflow.keras.layers import Dense\n",
    "from tensorflow.keras.layers import Conv2D\n",
    "from tensorflow.keras.layers import MaxPooling2D\n",
    "from tensorflow.keras.layers import Flatten\n",
    "\n",
    "#Creiamo una CNN, la quale avrà tre fasi: convoluzione, pooling e appiattimento\n",
    "classifier = Sequential()\n",
    "\n",
    "# CONVOLUTION\n",
    "#Qui stiamo stabilendo come deve avvenire la convoluzione, ovvero vogliamo suddividere i pixel delle immagini secondo dei filtri.\n",
    "#Si fa con Conv2D, in cui specifichiamo il numero di filtri = 32 e quanto deve essere grande la matrice dei filtri = 4 x 4. N.B. Li ho scelti a caso.\n",
    "#input_shape indica con che forma ci si aspetta l'input, nel nostro caso sono foto 200 x 200. 3 è un numero che ogni pixel è combinazione di 3 valori RGB.\n",
    "#Infine si sceglie la funzione di attivazione, in questo caso la RELU.\n",
    "classifier.add(Conv2D(32, (4, 4), input_shape = (200, 200, 3), activation = 'relu'))\n",
    "\n",
    "# POOLING\n",
    "#Nella fase di pooling scegliamo come devono essere creati i pool a partire dalle matrici ottenute dalla convoluzione. \n",
    "#MaxPooling significa dire che si sceglie per ogni regione della matrice di convoluzione il valore massimo, e questo viene inserito nella nuova matrice di pooling.\n",
    "#pool_size 2 x 2 indica ogni quanto deve trovare e inserire un valore massimo dalla matrice di convoluzione.\n",
    "classifier.add(MaxPooling2D(pool_size = (6,6)))\n",
    "\n",
    "#FLATTENING\n",
    "#Bisogna trasformare tutte le matrici ottenute dalla fase di pooling in array monodimensionali, poiché questa è una forma di input accettabile da una rete neurale.\n",
    "#Una funzione fa tutto da sola.\n",
    "classifier.add(Flatten())\n",
    "\n",
    "\n",
    "classifier.summary()"
   ]
  },
  {
   "cell_type": "code",
   "execution_count": 2,
   "id": "b9354cd8-9830-4f89-bae6-ee6d793cc749",
   "metadata": {
    "scrolled": true
   },
   "outputs": [
    {
     "name": "stdout",
     "output_type": "stream",
     "text": [
      "Done\n"
     ]
    }
   ],
   "source": [
    "#FULL CONNECTION\n",
    "#Ora bisogna creare l'effettiva rete neurale. Bisogna crearne una classica multistrato alimentata in avanti.\n",
    "#La dimensione dell'input sarà la dimensione dell'output creato dalla fase di appiattimento, quindi 307.328. Quella di output la specifichiamo noi, ho messo a caso 300.\n",
    "classifier.add(Dense(800, activation = 'relu'))\n",
    "\n",
    "#Crediamo il classificatore che preso l'output della precedente iterazione assegna effettivamente una classe. 28 nel nostro caso è il numero di risposte possibili \n",
    "#(tutte le lettere + caso nullo + carattere di spazio + carattere di delete) = 28\n",
    "classifier.add(Dense(29, activation = 'sigmoid'))\n",
    "\n",
    "#COMPILING\n",
    "classifier.compile(optimizer = 'adam', loss = 'binary_crossentropy', metrics = ['accuracy'])\n",
    "\n",
    "print(\"Done\")"
   ]
  },
  {
   "cell_type": "code",
   "execution_count": 12,
   "id": "8f4b02be-0734-43b4-bea4-57d1a18dfc87",
   "metadata": {},
   "outputs": [
    {
     "name": "stdout",
     "output_type": "stream",
     "text": [
      "Found 69607 images belonging to 29 classes.\n",
      "Found 17401 images belonging to 29 classes.\n",
      "Done\n"
     ]
    }
   ],
   "source": [
    "from keras.preprocessing.image import ImageDataGenerator\n",
    "\n",
    "\n",
    "#DATA PREPARATION FOR THE CNN\n",
    "train_datagen = ImageDataGenerator(rescale=1./255,\n",
    "                                   shear_range=0.2,\n",
    "                                   zoom_range = 0.2,\n",
    "                                   horizontal_flip = True,\n",
    "                                   validation_split = 0.2)\n",
    "\n",
    "test_datagen = ImageDataGenerator(rescale=1./255,\n",
    "                                  horizontal_flip = True)\n",
    "\n",
    "\n",
    "training_set = train_datagen.flow_from_directory('Dataset/asl_alphabet_train/asl_alphabet_train', \n",
    "                                                 target_size = (200, 200),\n",
    "                                                 batch_size = 47,\n",
    "                                                 class_mode = 'categorical',\n",
    "                                                 subset='training')\n",
    "\n",
    "validation_set = train_datagen.flow_from_directory('Dataset/asl_alphabet_train/asl_alphabet_train',\n",
    "                                                    target_size = (200, 200),\n",
    "                                                    batch_size = 11,\n",
    "                                                    class_mode = 'categorical',\n",
    "                                                    subset = 'validation')\n",
    "\n",
    "print(\"Done\")"
   ]
  },
  {
   "cell_type": "code",
   "execution_count": 14,
   "id": "3f2f5282-d5dd-4e2d-9336-cea1460ce99e",
   "metadata": {},
   "outputs": [
    {
     "name": "stdout",
     "output_type": "stream",
     "text": [
      "Training is about to start\n",
      "Epoch 1/32\n",
      "160/160 [==============================] - 108s 677ms/step - loss: 0.1344 - accuracy: 0.2170 - val_loss: 0.1212 - val_accuracy: 0.2132\n",
      "Epoch 2/32\n",
      "160/160 [==============================] - 107s 668ms/step - loss: 0.0985 - accuracy: 0.4270 - val_loss: 0.1114 - val_accuracy: 0.3197\n",
      "Epoch 3/32\n",
      "160/160 [==============================] - 106s 663ms/step - loss: 0.0807 - accuracy: 0.5537 - val_loss: 0.1066 - val_accuracy: 0.3448\n",
      "Epoch 4/32\n",
      "160/160 [==============================] - 105s 659ms/step - loss: 0.0686 - accuracy: 0.6394 - val_loss: 0.1055 - val_accuracy: 0.3824\n",
      "Epoch 5/32\n",
      "160/160 [==============================] - 105s 656ms/step - loss: 0.0593 - accuracy: 0.7065 - val_loss: 0.1122 - val_accuracy: 0.3824\n",
      "Epoch 6/32\n",
      "160/160 [==============================] - 104s 652ms/step - loss: 0.0520 - accuracy: 0.7447 - val_loss: 0.1137 - val_accuracy: 0.3605\n",
      "Epoch 7/32\n",
      "160/160 [==============================] - 104s 650ms/step - loss: 0.0455 - accuracy: 0.7891 - val_loss: 0.1089 - val_accuracy: 0.4608\n",
      "Epoch 8/32\n",
      "160/160 [==============================] - 104s 650ms/step - loss: 0.0406 - accuracy: 0.8207 - val_loss: 0.1167 - val_accuracy: 0.4451\n",
      "Epoch 9/32\n",
      "160/160 [==============================] - 105s 654ms/step - loss: 0.0369 - accuracy: 0.8406 - val_loss: 0.1086 - val_accuracy: 0.4514\n",
      "Epoch 10/32\n",
      "160/160 [==============================] - 104s 649ms/step - loss: 0.0341 - accuracy: 0.8528 - val_loss: 0.1174 - val_accuracy: 0.3824\n",
      "Epoch 11/32\n",
      "160/160 [==============================] - 103s 647ms/step - loss: 0.0311 - accuracy: 0.8707 - val_loss: 0.1065 - val_accuracy: 0.4890\n",
      "Epoch 12/32\n",
      "160/160 [==============================] - 104s 648ms/step - loss: 0.0286 - accuracy: 0.8823 - val_loss: 0.1173 - val_accuracy: 0.4326\n",
      "Epoch 13/32\n",
      "160/160 [==============================] - 100s 627ms/step - loss: 0.0265 - accuracy: 0.8949 - val_loss: 0.1195 - val_accuracy: 0.4639\n",
      "Epoch 14/32\n",
      "160/160 [==============================] - 99s 620ms/step - loss: 0.0255 - accuracy: 0.9012 - val_loss: 0.0977 - val_accuracy: 0.5423\n",
      "Epoch 15/32\n",
      "160/160 [==============================] - 99s 617ms/step - loss: 0.0227 - accuracy: 0.9152 - val_loss: 0.1210 - val_accuracy: 0.4545\n",
      "Epoch 16/32\n",
      "160/160 [==============================] - 99s 619ms/step - loss: 0.0227 - accuracy: 0.9109 - val_loss: 0.1122 - val_accuracy: 0.5110\n",
      "Epoch 17/32\n",
      "160/160 [==============================] - 99s 617ms/step - loss: 0.0209 - accuracy: 0.9210 - val_loss: 0.1242 - val_accuracy: 0.4639\n",
      "Epoch 18/32\n",
      "160/160 [==============================] - 98s 614ms/step - loss: 0.0194 - accuracy: 0.9293 - val_loss: 0.1096 - val_accuracy: 0.5329\n",
      "Epoch 19/32\n",
      "160/160 [==============================] - 98s 615ms/step - loss: 0.0186 - accuracy: 0.9332 - val_loss: 0.1144 - val_accuracy: 0.5329\n",
      "Epoch 20/32\n",
      "160/160 [==============================] - 98s 612ms/step - loss: 0.0179 - accuracy: 0.9372 - val_loss: 0.1258 - val_accuracy: 0.4922\n",
      "Epoch 21/32\n",
      "160/160 [==============================] - 98s 609ms/step - loss: 0.0181 - accuracy: 0.9338 - val_loss: 0.1198 - val_accuracy: 0.4922\n",
      "Epoch 22/32\n",
      "160/160 [==============================] - 97s 609ms/step - loss: 0.0161 - accuracy: 0.9418 - val_loss: 0.1143 - val_accuracy: 0.5643\n",
      "Epoch 23/32\n",
      "160/160 [==============================] - 97s 609ms/step - loss: 0.0152 - accuracy: 0.9507 - val_loss: 0.1452 - val_accuracy: 0.5423\n",
      "Epoch 24/32\n",
      "160/160 [==============================] - 98s 610ms/step - loss: 0.0159 - accuracy: 0.9473 - val_loss: 0.1219 - val_accuracy: 0.5674\n",
      "Epoch 25/32\n",
      "160/160 [==============================] - 97s 607ms/step - loss: 0.0147 - accuracy: 0.9560 - val_loss: 0.1265 - val_accuracy: 0.5392\n",
      "Epoch 26/32\n",
      "160/160 [==============================] - 97s 605ms/step - loss: 0.0141 - accuracy: 0.9545 - val_loss: 0.1282 - val_accuracy: 0.5423\n",
      "Epoch 27/32\n",
      "160/160 [==============================] - 97s 605ms/step - loss: 0.0136 - accuracy: 0.9577 - val_loss: 0.1209 - val_accuracy: 0.5674\n",
      "Epoch 28/32\n",
      "160/160 [==============================] - 97s 605ms/step - loss: 0.0125 - accuracy: 0.9625 - val_loss: 0.1300 - val_accuracy: 0.5329\n",
      "Epoch 29/32\n",
      "160/160 [==============================] - 97s 604ms/step - loss: 0.0129 - accuracy: 0.9584 - val_loss: 0.1241 - val_accuracy: 0.5580\n",
      "Epoch 30/32\n",
      "160/160 [==============================] - 97s 604ms/step - loss: 0.0120 - accuracy: 0.9649 - val_loss: 0.1477 - val_accuracy: 0.4953\n",
      "Epoch 31/32\n",
      "160/160 [==============================] - 97s 603ms/step - loss: 0.0112 - accuracy: 0.9673 - val_loss: 0.1435 - val_accuracy: 0.5235\n",
      "Epoch 32/32\n",
      "160/160 [==============================] - 97s 604ms/step - loss: 0.0120 - accuracy: 0.9605 - val_loss: 0.1494 - val_accuracy: 0.5298\n",
      "DONE!!!\n"
     ]
    }
   ],
   "source": [
    "print(\"Training is about to start\")\n",
    "\n",
    "data_history = classifier.fit(training_set, \n",
    "                              steps_per_epoch = 160,#prova 100\n",
    "                              epochs = 32,\n",
    "                              validation_data = validation_set,\n",
    "                              validation_steps = 29)\n",
    "\n",
    "print(\"DONE!!!\")\n",
    "\n",
    "#early stopping e salva il migliore\n",
    "#aggiungi val nei dati"
   ]
  },
  {
   "cell_type": "code",
   "execution_count": 15,
   "id": "0cca4dc1-1a7b-4d41-b44b-3f1e1e9064ed",
   "metadata": {},
   "outputs": [
    {
     "name": "stdout",
     "output_type": "stream",
     "text": [
      "Saving...\n",
      "Saved!\n"
     ]
    }
   ],
   "source": [
    "print(\"Saving...\")\n",
    "\n",
    "classifier.save_weights('weights.h5')\n",
    "\n",
    "print(\"Saved!\")"
   ]
  },
  {
   "cell_type": "code",
   "execution_count": 16,
   "id": "9aea9c0e",
   "metadata": {
    "scrolled": true
   },
   "outputs": [
    {
     "name": "stdout",
     "output_type": "stream",
     "text": [
      "Loaded\n"
     ]
    }
   ],
   "source": [
    "classifier.load_weights(\"weights.h5\")\n",
    "\n",
    "print(\"Loaded\")"
   ]
  },
  {
   "cell_type": "code",
   "execution_count": 32,
   "id": "17b495e8",
   "metadata": {},
   "outputs": [
    {
     "name": "stdout",
     "output_type": "stream",
     "text": [
      "dict_keys(['loss', 'accuracy', 'val_loss', 'val_accuracy'])\n"
     ]
    },
    {
     "data": {
      "image/png": "[encoded data removed]",
      "text/plain": [
       "<Figure size 432x288 with 1 Axes>"
      ]
     },
     "metadata": {
      "needs_background": "light"
     },
     "output_type": "display_data"
    }
   ],
   "source": [
    "import matplotlib.pyplot as plt\n",
    "\n",
    "class_labels = [\"A\", \"B\", \"C\", \"D\", \"del\", \"E\", \"F\", \"G\", \"H\", \"I\", \"J\", \"K\", \"L\", \"M\", \"N\", \"nothing\", \"O\", \"P\", \"Q\", \"R\",\n",
    "                \"S\", \"space\", \"T\", \"U\", \"V\", \"W\", \"X\", \"Y\", \"Z\"]\n",
    "\n",
    "print(data_history.history.keys())\n",
    "\n",
    "\n",
    "plt.plot(data_history.history['accuracy'])\n",
    "plt.plot(data_history.history['val_accuracy'])\n",
    "plt.title('model accuracy')\n",
    "plt.ylabel('accuracy')\n",
    "plt.xlabel('epoch')\n",
    "plt.legend(['train', 'accuracy'], loc = 'upper left')\n",
    "plt.show()"
   ]
  },
  {
   "cell_type": "code",
   "execution_count": 33,
   "id": "856a0fe8",
   "metadata": {},
   "outputs": [
    {
     "data": {
      "image/png": "[encoded data removed]",
      "text/plain": [
       "<Figure size 432x288 with 1 Axes>"
      ]
     },
     "metadata": {
      "needs_background": "light"
     },
     "output_type": "display_data"
    }
   ],
   "source": [
    "plt.plot(data_history.history['loss'])\n",
    "plt.plot(data_history.history['val_loss'])\n",
    "plt.title('model loss')\n",
    "plt.ylabel('loss')\n",
    "plt.xlabel('epoch')\n",
    "plt.legend(['train', 'loss'], loc = 'upper right')\n",
    "plt.show()"
   ]
  },
  {
   "cell_type": "code",
   "execution_count": 31,
   "id": "16037394",
   "metadata": {},
   "outputs": [
    {
     "name": "stdout",
     "output_type": "stream",
     "text": [
      "Found 29 images belonging to 1 classes.\n",
      "[20, 2, 4, 28, 14, 25, 9, 13, 26, 3, 7, 11, 23, 27, 24, 8, 21, 5, 6, 15, 12, 10, 16, 22, 17, 1, 19, 0, 18]\n",
      "[0, 1, 2, 3, 4, 5, 6, 7, 8, 9, 10, 11, 12, 13, 14, 15, 16, 17, 18, 19, 20, 21, 22, 23, 24, 25, 26, 27, 28]\n"
     ]
    },
    {
     "data": {
      "text/plain": [
       "0.034482758620689655"
      ]
     },
     "execution_count": 31,
     "metadata": {},
     "output_type": "execute_result"
    }
   ],
   "source": [
    "from sklearn.metrics import confusion_matrix\n",
    "from sklearn.metrics import accuracy_score\n",
    "import numpy as np\n",
    "\n",
    "testing_set = test_datagen.flow_from_directory('Dataset/asl_alphabet_test',\n",
    "                                                target_size = (200, 200),\n",
    "                                                class_mode = 'categorical')\n",
    "\n",
    "y_pred = classifier.predict(testing_set)\n",
    "\n",
    "results = []\n",
    "y_true = []\n",
    "i = 0\n",
    "for pred in y_pred:\n",
    "    results.append(np.argmax(pred, axis = 0))\n",
    "    y_true.append(i)\n",
    "    i+=1\n",
    "    \n",
    "print(results)\n",
    "print(y_true)\n",
    "\n",
    "accuracy_score(results, y_true)\n"
   ]
  },
  {
   "cell_type": "code",
   "execution_count": 140,
   "id": "56fec9c4",
   "metadata": {},
   "outputs": [],
   "source": [
    "#Per cambiare la struttura \n",
    "def build_classifier():\n",
    "    classifier = Sequential()\n",
    "    classifier.add(Conv2D(32, (4, 4), input_shape = (200, 200, 3), activation = 'relu'))\n",
    "    classifier.add(MaxPooling2D(pool_size = (6,6)))\n",
    "    classifier.add(Flatten())\n",
    "    \n",
    "    classifier.add(Dense(400, activation = 'relu'))\n",
    "    classifier.add(Dense(29, activation = 'sigmoid'))\n",
    "    classifier.compile(optimizer = 'adam', \n",
    "                       loss = 'binary_crossentropy', \n",
    "                       metrics = ['accuracy', 'val_accuracy', 'loss', 'val_loss'])\n",
    "\n",
    "    classifier.summary()\n",
    "    return classifier    "
   ]
  },
  {
   "cell_type": "code",
   "execution_count": null,
   "id": "e36d1506",
   "metadata": {},
   "outputs": [],
   "source": [
    "print(\"Training is about to start\")\n",
    "\n",
    "callback = tensorflow.keras.callbacks.EarlyStopping(\n",
    "    monitor=\"val_loss\",\n",
    "    min_delta=0,\n",
    "    patience=0,\n",
    "    verbose=1,\n",
    "    mode=\"auto\",\n",
    "    baseline=None,\n",
    "    restore_best_weights=False,\n",
    ")\n",
    "\n",
    "#Ancora uguale, smanettaci \n",
    "data_history2 = classifier.fit(training_set, \n",
    "                              steps_per_epoch = 160,\n",
    "                              epochs = 32,#prbabilmente di meno è meglio\n",
    "                              validation_data = validation_set,\n",
    "                              validation_steps = 29#aumenta di tanto\n",
    "                              callbacks = [callbacks])\n",
    "\n",
    "print(\"DONE!!!\")"
   ]
  },
  {
   "cell_type": "code",
   "execution_count": null,
   "id": "ca266400-2d7a-4dfa-988e-aaa7477c7f90",
   "metadata": {},
   "outputs": [],
   "source": []
  }
 ],
 "metadata": {
  "kernelspec": {
   "display_name": "Python 3 (ipykernel)",
   "language": "python",
   "name": "python3"
  },
  "language_info": {
   "codemirror_mode": {
    "name": "ipython",
    "version": 3
   },
   "file_extension": ".py",
   "mimetype": "text/x-python",
   "name": "python",
   "nbconvert_exporter": "python",
   "pygments_lexer": "ipython3",
   "version": "3.7.0"
  }
 },
 "nbformat": 4,
 "nbformat_minor": 5
}
