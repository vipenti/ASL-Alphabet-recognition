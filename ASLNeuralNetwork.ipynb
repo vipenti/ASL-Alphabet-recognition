{
 "cells": [
  {
   "cell_type": "code",
   "execution_count": 1,
   "id": "71f94f11-8ee3-40b2-9e67-597ab5803eaa",
   "metadata": {},
   "outputs": [
    {
     "ename": "ImportError",
     "evalue": "cannot import name 'tf2' from 'tensorflow.python' (unknown location)",
     "output_type": "error",
     "traceback": [
      "\u001b[1;31m---------------------------------------------------------------------------\u001b[0m",
      "\u001b[1;31mImportError\u001b[0m                               Traceback (most recent call last)",
      "\u001b[1;32m~\\AppData\\Local\\Temp/ipykernel_11608/4054455808.py\u001b[0m in \u001b[0;36m<module>\u001b[1;34m\u001b[0m\n\u001b[0;32m      1\u001b[0m \u001b[1;32mimport\u001b[0m \u001b[0mtensorflow\u001b[0m\u001b[1;33m\u001b[0m\u001b[1;33m\u001b[0m\u001b[0m\n\u001b[1;32m----> 2\u001b[1;33m \u001b[1;32mimport\u001b[0m \u001b[0mkeras\u001b[0m\u001b[1;33m\u001b[0m\u001b[1;33m\u001b[0m\u001b[0m\n\u001b[0m\u001b[0;32m      3\u001b[0m \u001b[1;32mfrom\u001b[0m \u001b[0mkeras\u001b[0m \u001b[1;32mimport\u001b[0m \u001b[0mSequential\u001b[0m\u001b[1;33m\u001b[0m\u001b[1;33m\u001b[0m\u001b[0m\n\u001b[0;32m      4\u001b[0m \u001b[1;32mfrom\u001b[0m \u001b[0mkeras\u001b[0m\u001b[1;33m.\u001b[0m\u001b[0mlayers\u001b[0m \u001b[1;32mimport\u001b[0m \u001b[0mDense\u001b[0m\u001b[1;33m\u001b[0m\u001b[1;33m\u001b[0m\u001b[0m\n\u001b[0;32m      5\u001b[0m \u001b[1;32mfrom\u001b[0m \u001b[0mkeras\u001b[0m\u001b[1;33m.\u001b[0m\u001b[0mlayers\u001b[0m \u001b[1;32mimport\u001b[0m \u001b[0mConv2D\u001b[0m\u001b[1;33m\u001b[0m\u001b[1;33m\u001b[0m\u001b[0m\n",
      "\u001b[1;32m~\\anaconda3\\envs\\cnn\\lib\\site-packages\\keras\\__init__.py\u001b[0m in \u001b[0;36m<module>\u001b[1;34m\u001b[0m\n\u001b[0;32m     19\u001b[0m \"\"\"\n\u001b[0;32m     20\u001b[0m \u001b[1;31m# pylint: disable=unused-import\u001b[0m\u001b[1;33m\u001b[0m\u001b[1;33m\u001b[0m\u001b[0m\n\u001b[1;32m---> 21\u001b[1;33m \u001b[1;32mfrom\u001b[0m \u001b[0mtensorflow\u001b[0m\u001b[1;33m.\u001b[0m\u001b[0mpython\u001b[0m \u001b[1;32mimport\u001b[0m \u001b[0mtf2\u001b[0m\u001b[1;33m\u001b[0m\u001b[1;33m\u001b[0m\u001b[0m\n\u001b[0m\u001b[0;32m     22\u001b[0m \u001b[1;32mfrom\u001b[0m \u001b[0mkeras\u001b[0m \u001b[1;32mimport\u001b[0m \u001b[0mdistribute\u001b[0m\u001b[1;33m\u001b[0m\u001b[1;33m\u001b[0m\u001b[0m\n\u001b[0;32m     23\u001b[0m \u001b[1;33m\u001b[0m\u001b[0m\n",
      "\u001b[1;31mImportError\u001b[0m: cannot import name 'tf2' from 'tensorflow.python' (unknown location)"
     ]
    }
   ],
   "source": [
    "import tensorflow\n",
    "import keras\n",
    "from keras import Sequential\n",
    "from keras.layers import Dense\n",
    "from keras.layers import Conv2D\n",
    "from keras.layers import MaxPooling2D\n",
    "from keras.layers import Flatten\n",
    "\n",
    "#Creiamo una CNN, la quale avrà tre fasi: convoluzione, pooling e appiattimento\n",
    "classifier = Sequential()\n",
    "\n",
    "# CONVOLUTION\n",
    "#Qui stiamo stabilendo come deve avvenire la convoluzione, ovvero vogliamo suddividere i pixel delle immagini secondo dei filtri.\n",
    "#Si fa con Conv2D, in cui specifichiamo il numero di filtri = 32 e quanto deve essere grande la matrice dei filtri = 4 x 4. N.B. Li ho scelti a caso.\n",
    "#input_shape indica con che forma ci si aspetta l'input, nel nostro caso sono foto 200 x 200. 3 è un numero che ogni pixel è combinazione di 3 valori RGB.\n",
    "#Infine si sceglie la funzione di attivazione, in questo caso la RELU.\n",
    "classifier.add(Conv2D(32, (4, 4), input_shape = (200, 200, 3), activation = 'relu'))\n",
    "\n",
    "# POOLING\n",
    "#Nella fase di pooling scegliamo come devono essere creati i pool a partire dalle matrici ottenute dalla convoluzione. \n",
    "#MaxPooling significa dire che si sceglie per ogni regione della matrice di convoluzione il valore massimo, e questo viene inserito nella nuova matrice di pooling.\n",
    "#pool_size 2 x 2 indica ogni quanto deve trovare e inserire un valore massimo dalla matrice di convoluzione.\n",
    "classifier.add(MaxPooling2D(pool_size = (6,6)))\n",
    "\n",
    "#FLATTENING\n",
    "#Bisogna trasformare tutte le matrici ottenute dalla fase di pooling in array monodimensionali, poiché questa è una forma di input accettabile da una rete neurale.\n",
    "#Una funzione fa tutto da sola.\n",
    "classifier.add(Flatten())\n",
    "\n",
    "\n",
    "classifier.summary()"
   ]
  },
  {
   "cell_type": "code",
   "execution_count": null,
   "id": "b9354cd8-9830-4f89-bae6-ee6d793cc749",
   "metadata": {},
   "outputs": [],
   "source": [
    "#FULL CONNECTION\n",
    "#Ora bisogna creare l'effettiva rete neurale. Bisogna crearne una classica multistrato alimentata in avanti.\n",
    "#La dimensione dell'input sarà la dimensione dell'output creato dalla fase di appiattimento, quindi 307.328. Quella di output la specifichiamo noi, ho messo a caso 300.\n",
    "classifier.add(Dense(800, activation = 'relu'))\n",
    "\n",
    "#Crediamo il classificatore che preso l'output della precedente iterazione assegna effettivamente una classe. 28 nel nostro caso è il numero di risposte possibili \n",
    "#(tutte le lettere + caso nullo + carattere di spazio + carattere di delete) = 28\n",
    "classifier.add(Dense(29, activation = 'sigmoid'))\n",
    "\n",
    "#COMPILING\n",
    "classifier.compile(optimizer = 'adam', loss = 'binary_crossentropy', metrics = ['accuracy'])\n",
    "\n",
    "print(\"Done\")"
   ]
  },
  {
   "cell_type": "code",
   "execution_count": null,
   "id": "8f4b02be-0734-43b4-bea4-57d1a18dfc87",
   "metadata": {},
   "outputs": [],
   "source": [
    "from keras.preprocessing.image import ImageDataGenerator\n",
    "\n",
    "#DATA PREPARATION FOR THE CNN\n",
    "train_datagen = ImageDataGenerator(zoom_range = 0.2,\n",
    "                                   horizontal_flip = True)\n",
    "\n",
    "training_set = train_datagen.flow_from_directory('Dataset/asl_alphabet_train/asl_alphabet_train', \n",
    "                                                 target_size = (200, 200),\n",
    "                                                 batch_size = 100,\n",
    "                                                 class_mode = 'categorical')\n",
    "\n",
    "testing_set = train_datagen.flow_from_directory('Dataset/asl_alphabet_test/asl_alphabet_test', \n",
    "                                                 target_size = (200, 200),\n",
    "                                                 batch_size = 100,\n",
    "                                                 class_mode = 'categorical')\n",
    "\n",
    "print(\"Done\")"
   ]
  },
  {
   "cell_type": "code",
   "execution_count": null,
   "id": "3f2f5282-d5dd-4e2d-9336-cea1460ce99e",
   "metadata": {},
   "outputs": [],
   "source": [
    "print(\"Training is about to start\")\n",
    "\n",
    "data_history = classifier.fit(training_set, \n",
    "                              steps_per_epoch = 320,\n",
    "                              epochs = 32,\n",
    "                              validation_data = testing_set,\n",
    "                              validation_steps = 3000)\n",
    "\n",
    "\n",
    "\n",
    "classifier.save_weights('weights.h5')\n",
    "\n",
    "print(\"DONE!!!\")"
   ]
  },
  {
   "cell_type": "code",
   "execution_count": null,
   "id": "0cca4dc1-1a7b-4d41-b44b-3f1e1e9064ed",
   "metadata": {},
   "outputs": [],
   "source": []
  }
 ],
 "metadata": {
  "kernelspec": {
   "display_name": "Python 3 (ipykernel)",
   "language": "python",
   "name": "python3"
  },
  "language_info": {
   "codemirror_mode": {
    "name": "ipython",
    "version": 3
   },
   "file_extension": ".py",
   "mimetype": "text/x-python",
   "name": "python",
   "nbconvert_exporter": "python",
   "pygments_lexer": "ipython3",
   "version": "3.9.7"
  }
 },
 "nbformat": 4,
 "nbformat_minor": 5
}
