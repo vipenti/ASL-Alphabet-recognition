{
 "cells": [
  {
   "cell_type": "code",
   "execution_count": 1,
   "id": "71f94f11-8ee3-40b2-9e67-597ab5803eaa",
   "metadata": {},
   "outputs": [
    {
     "name": "stdout",
     "output_type": "stream",
     "text": [
      "Model: \"sequential\"\n",
      "_________________________________________________________________\n",
      "Layer (type)                 Output Shape              Param #   \n",
      "=================================================================\n",
      "conv2d (Conv2D)              (None, 197, 197, 32)      1568      \n",
      "_________________________________________________________________\n",
      "max_pooling2d (MaxPooling2D) (None, 32, 32, 32)        0         \n",
      "_________________________________________________________________\n",
      "flatten (Flatten)            (None, 32768)             0         \n",
      "=================================================================\n",
      "Total params: 1,568\n",
      "Trainable params: 1,568\n",
      "Non-trainable params: 0\n",
      "_________________________________________________________________\n"
     ]
    }
   ],
   "source": [
    "import tensorflow\n",
    "#import keras\n",
    "from tensorflow.keras import Sequential\n",
    "from tensorflow.keras.layers import Dense\n",
    "from tensorflow.keras.layers import Conv2D\n",
    "from tensorflow.keras.layers import MaxPooling2D\n",
    "from tensorflow.keras.layers import Flatten\n",
    "\n",
    "#Creiamo una CNN, la quale avrà tre fasi: convoluzione, pooling e appiattimento\n",
    "classifier = Sequential()\n",
    "\n",
    "# CONVOLUTION\n",
    "#Qui stiamo stabilendo come deve avvenire la convoluzione, ovvero vogliamo suddividere i pixel delle immagini secondo dei filtri.\n",
    "#Si fa con Conv2D, in cui specifichiamo il numero di filtri = 32 e quanto deve essere grande la matrice dei filtri = 4 x 4. N.B. Li ho scelti a caso.\n",
    "#input_shape indica con che forma ci si aspetta l'input, nel nostro caso sono foto 200 x 200. 3 è un numero che ogni pixel è combinazione di 3 valori RGB.\n",
    "#Infine si sceglie la funzione di attivazione, in questo caso la RELU.\n",
    "classifier.add(Conv2D(32, (4, 4), input_shape = (200, 200, 3), activation = 'relu'))\n",
    "\n",
    "# POOLING\n",
    "#Nella fase di pooling scegliamo come devono essere creati i pool a partire dalle matrici ottenute dalla convoluzione. \n",
    "#MaxPooling significa dire che si sceglie per ogni regione della matrice di convoluzione il valore massimo, e questo viene inserito nella nuova matrice di pooling.\n",
    "#pool_size 2 x 2 indica ogni quanto deve trovare e inserire un valore massimo dalla matrice di convoluzione.\n",
    "classifier.add(MaxPooling2D(pool_size = (6,6)))\n",
    "\n",
    "#FLATTENING\n",
    "#Bisogna trasformare tutte le matrici ottenute dalla fase di pooling in array monodimensionali, poiché questa è una forma di input accettabile da una rete neurale.\n",
    "#Una funzione fa tutto da sola.\n",
    "classifier.add(Flatten())\n",
    "\n",
    "\n",
    "classifier.summary()"
   ]
  },
  {
   "cell_type": "code",
   "execution_count": 2,
   "id": "b9354cd8-9830-4f89-bae6-ee6d793cc749",
   "metadata": {
    "scrolled": true
   },
   "outputs": [
    {
     "name": "stdout",
     "output_type": "stream",
     "text": [
      "Done\n"
     ]
    }
   ],
   "source": [
    "#FULL CONNECTION\n",
    "#Ora bisogna creare l'effettiva rete neurale. Bisogna crearne una classica multistrato alimentata in avanti.\n",
    "#La dimensione dell'input sarà la dimensione dell'output creato dalla fase di appiattimento, quindi 307.328. Quella di output la specifichiamo noi, ho messo a caso 300.\n",
    "classifier.add(Dense(800, activation = 'relu'))\n",
    "\n",
    "#Crediamo il classificatore che preso l'output della precedente iterazione assegna effettivamente una classe. 28 nel nostro caso è il numero di risposte possibili \n",
    "#(tutte le lettere + caso nullo + carattere di spazio + carattere di delete) = 28\n",
    "classifier.add(Dense(29, activation = 'sigmoid'))\n",
    "\n",
    "#COMPILING\n",
    "classifier.compile(optimizer = 'adam', loss = 'binary_crossentropy', metrics = ['accuracy'])\n",
    "\n",
    "print(\"Done\")"
   ]
  },
  {
   "cell_type": "code",
   "execution_count": 7,
   "id": "8f4b02be-0734-43b4-bea4-57d1a18dfc87",
   "metadata": {},
   "outputs": [
    {
     "name": "stdout",
     "output_type": "stream",
     "text": [
      "Found 87008 images belonging to 29 classes.\n",
      "Found 29 images belonging to 29 classes.\n",
      "Done\n"
     ]
    }
   ],
   "source": [
    "from keras.preprocessing.image import ImageDataGenerator\n",
    "\n",
    "\n",
    "#DATA PREPARATION FOR THE CNN\n",
    "train_datagen = ImageDataGenerator(zoom_range = 0.2,\n",
    "                                   horizontal_flip = True)\n",
    "\n",
    "test_datagen = ImageDataGenerator(horizontal_flip = True)\n",
    "\n",
    "\n",
    "training_set = train_datagen.flow_from_directory('Dataset/asl_alphabet_train/asl_alphabet_train', \n",
    "                                                 target_size = (200, 200),\n",
    "                                                 batch_size = 92,\n",
    "                                                 class_mode = 'categorical')\n",
    "\n",
    "testing_set = test_datagen.flow_from_directory('Dataset/asl_alphabet_test/asl_alphabet_test', \n",
    "                                                 target_size = (200, 200),\n",
    "                                                 batch_size = 92,\n",
    "                                                 class_mode = 'categorical')\n",
    "\n",
    "print(\"Done\")"
   ]
  },
  {
   "cell_type": "code",
   "execution_count": null,
   "id": "3f2f5282-d5dd-4e2d-9336-cea1460ce99e",
   "metadata": {},
   "outputs": [
    {
     "name": "stdout",
     "output_type": "stream",
     "text": [
      "Training is about to start\n",
      "Epoch 1/32\n",
      "191/320 [================>.............] - ETA: 2:26 - loss: 1.0079 - accuracy: 0.0503"
     ]
    }
   ],
   "source": [
    "print(\"Training is about to start\")\n",
    "\n",
    "data_history = classifier.fit(training_set, \n",
    "                              steps_per_epoch = 320,\n",
    "                              epochs = 32,\n",
    "                              validation_data = testing_set,\n",
    "                              validation_steps = 29)\n",
    "\n",
    "\n",
    "print(\"DONE!!!\")"
   ]
  },
  {
   "cell_type": "code",
   "execution_count": 5,
   "id": "0cca4dc1-1a7b-4d41-b44b-3f1e1e9064ed",
   "metadata": {},
   "outputs": [
    {
     "name": "stdout",
     "output_type": "stream",
     "text": [
      "Saving...\n",
      "Saved!\n"
     ]
    }
   ],
   "source": [
    "print(\"Saving...\")\n",
    "\n",
    "classifier.save_weights('weights.h5')\n",
    "\n",
    "print(\"Saved!\")"
   ]
  },
  {
   "cell_type": "code",
   "execution_count": 6,
   "id": "a6783dfd",
   "metadata": {
    "scrolled": true
   },
   "outputs": [
    {
     "name": "stdout",
     "output_type": "stream",
     "text": [
      "Loaded\n"
     ]
    }
   ],
   "source": [
    "classifier.load_weights(\"weights.h5\")\n",
    "\n",
    "print(\"Loaded\")"
   ]
  },
  {
   "cell_type": "code",
   "execution_count": null,
   "id": "3b0c21b2",
   "metadata": {},
   "outputs": [],
   "source": []
  }
 ],
 "metadata": {
  "kernelspec": {
   "display_name": "Python 3 (ipykernel)",
   "language": "python",
   "name": "python3"
  },
  "language_info": {
   "codemirror_mode": {
    "name": "ipython",
    "version": 3
   },
   "file_extension": ".py",
   "mimetype": "text/x-python",
   "name": "python",
   "nbconvert_exporter": "python",
   "pygments_lexer": "ipython3",
   "version": "3.7.0"
  }
 },
 "nbformat": 4,
 "nbformat_minor": 5
}
