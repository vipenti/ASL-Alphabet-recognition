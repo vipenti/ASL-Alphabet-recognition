{
 "cells": [
  {
   "cell_type": "code",
   "execution_count": null,
   "id": "71f94f11-8ee3-40b2-9e67-597ab5803eaa",
   "metadata": {},
   "outputs": [],
   "source": [
    "print(\"Ciao Ciro\")"
   ]
  }
 ],
 "metadata": {
  "kernelspec": {
   "display_name": "Python 3 (ipykernel)",
   "language": "python",
   "name": "python3"
  },
  "language_info": {
   "codemirror_mode": {
    "name": "ipython",
    "version": 3
   },
   "file_extension": ".py",
   "mimetype": "text/x-python",
   "name": "python",
   "nbconvert_exporter": "python",
   "pygments_lexer": "ipython3",
   "version": "3.9.7"
  }
 },
 "nbformat": 4,
 "nbformat_minor": 5
}
